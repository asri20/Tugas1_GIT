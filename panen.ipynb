{
 "cells": [
  {
   "cell_type": "code",
   "execution_count": null,
   "metadata": {},
   "outputs": [],
   "source": [
    "data_panen = {\n",
    "    'lokasi1': {\n",
    "        'nama_lokasi': 'Kebun A',\n",
    "        'hasil_panen': {\n",
    "            'padi': 1200,\n",
    "            'jagung': 800,\n",
    "            'kedelai': 500\n",
    "        }\n",
    "    },\n",
    "    'lokasi2': {\n",
    "        'nama_lokasi': 'Kebun B',\n",
    "        'hasil_panen': {\n",
    "            'padi': 1500,\n",
    "            'jagung': 900,\n",
    "            'kedelai': 450\n",
    "        }\n",
    "    },\n",
    "    'lokasi3': {\n",
    "        'nama_lokasi': 'Kebun C',\n",
    "        'hasil_panen': {\n",
    "            'padi': 1100,\n",
    "            'jagung': 750,\n",
    "            'kedelai': 600\n",
    "        }\n",
    "    },\n",
    "    'lokasi4': {\n",
    "        'nama_lokasi': 'Kebun D',\n",
    "        'hasil_panen': {\n",
    "            'padi': 1300,\n",
    "            'jagung': 850,\n",
    "            'kedelai': 550\n",
    "        }\n",
    "    },\n",
    "    'lokasi5': {\n",
    "        'nama_lokasi': 'Kebun E',\n",
    "        'hasil_panen': {\n",
    "            'padi': 1400,\n",
    "            'jagung': 950,\n",
    "            'kedelai': 480\n",
    "        }\n",
    "    }\n",
    "}"
   ]
  },
  {
   "cell_type": "code",
   "execution_count": null,
   "metadata": {},
   "outputs": [],
   "source": [
    "# Tampilkan seluruh data dari data_panen termasuk nama lokasi dan hasil panen masing-masing.\n",
    "for lokasi, data in data_panen.items():\n",
    "    print(f\"Lokasi: {data['nama_lokasi']}\")\n",
    "    for jenis, hasil in data['hasil_panen'].items():\n",
    "        print(f\"Hasil Panen {jenis.capitalize()}: {hasil}\")\n",
    "    print() "
   ]
  },
  {
   "cell_type": "code",
   "execution_count": null,
   "metadata": {},
   "outputs": [],
   "source": [
    "# Tampilkan jumlah hasil panen jagung dari lokasi2.\n",
    "jumlah_jagung_lokasi2 = data_panen['lokasi2']['hasil_panen']['jagung']\n",
    "print(f\"Jumlah hasil panen jagung dari Lokasi 2: {jumlah_jagung_lokasi2}\")\n"
   ]
  },
  {
   "cell_type": "code",
   "execution_count": null,
   "metadata": {},
   "outputs": [],
   "source": [
    "# Tampilkan nama lokasi dari lokasi3.\n",
    "nama_lokasi3= data_panen['lokasi3']['nama_lokasi']\n",
    "print(f\"nama lokasi dari lokasi3:{nama_lokasi3}\")"
   ]
  },
  {
   "cell_type": "code",
   "execution_count": null,
   "metadata": {},
   "outputs": [],
   "source": [
    "# Simpan jumlah hasil panen padi dan kedelai dari setiap lokasi ke dalam variabel terpisah\n",
    "for lokasi, data in data_panen.items():\n",
    "    padi = data['hasil_panen']['padi']\n",
    "    kedelai = data['hasil_panen']['kedelai']\n",
    "    print(f\"{data['nama_lokasi']} - Padi: {padi}, Kedelai: {kedelai}\")"
   ]
  },
  {
   "cell_type": "code",
   "execution_count": null,
   "metadata": {},
   "outputs": [],
   "source": [
    "# Percabangan untuk mengecek kondisi panen di setiap lokasi\n",
    "for lokasi, data in data_panen.items():\n",
    "    padi = data['hasil_panen']['padi']\n",
    "    jagung = data['hasil_panen']['jagung']\n",
    "    \n",
    "    if padi > 1300 or jagung > 800:\n",
    "        print(f\"{data['nama_lokasi']} memerlukan perhatian khusus.\")\n",
    "    else:\n",
    "        print(f\"{data['nama_lokasi']} dalam kondisi baik.\")"
   ]
  }
 ],
 "metadata": {
  "language_info": {
   "name": "python"
  }
 },
 "nbformat": 4,
 "nbformat_minor": 2
}
